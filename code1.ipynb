{
 "cells": [
  {
   "cell_type": "markdown",
   "metadata": {},
   "source": [
    "## Determining the colour scheme of the faces"
   ]
  },
  {
   "cell_type": "code",
   "execution_count": 2,
   "metadata": {},
   "outputs": [],
   "source": [
    "import cv2 as cv\n",
    "import numpy as np"
   ]
  },
  {
   "cell_type": "code",
   "execution_count": 13,
   "metadata": {},
   "outputs": [
    {
     "data": {
      "text/plain": [
       "-1"
      ]
     },
     "execution_count": 13,
     "metadata": {},
     "output_type": "execute_result"
    }
   ],
   "source": [
    "img = cv.imread('sample image.jpg')\n",
    "cv.imshow('image', img)\n",
    "cv.waitKey(0)"
   ]
  },
  {
   "cell_type": "code",
   "execution_count": 4,
   "metadata": {},
   "outputs": [
    {
     "data": {
      "text/plain": [
       "-1"
      ]
     },
     "execution_count": 4,
     "metadata": {},
     "output_type": "execute_result"
    }
   ],
   "source": [
    "img_hsv = cv.cvtColor(img, cv.COLOR_BGR2HSV)\n",
    "cv.imshow('image', img)\n",
    "cv.imshow('image_hsv', img_hsv)\n",
    "cv.waitKey(0)"
   ]
  },
  {
   "cell_type": "code",
   "execution_count": 5,
   "metadata": {},
   "outputs": [
    {
     "data": {
      "text/plain": [
       "(608, 612, 3)"
      ]
     },
     "execution_count": 5,
     "metadata": {},
     "output_type": "execute_result"
    }
   ],
   "source": [
    "img_hsv.shape"
   ]
  },
  {
   "cell_type": "code",
   "execution_count": 6,
   "metadata": {},
   "outputs": [
    {
     "data": {
      "text/plain": [
       "-1"
      ]
     },
     "execution_count": 6,
     "metadata": {},
     "output_type": "execute_result"
    }
   ],
   "source": [
    "cv.imshow('img_hsv_partial', img_hsv[360:380,330:350])\n",
    "cv.waitKey(0)"
   ]
  },
  {
   "cell_type": "code",
   "execution_count": 36,
   "metadata": {},
   "outputs": [],
   "source": [
    "def WHICHCOLOR(img_part):\n",
    "\n",
    "    blue_mask = cv.inRange(img_part, np.array([90,120,120]),np.array([110,255,255]))\n",
    "    result_blue = cv.bitwise_and(img_part,img_part, mask = blue_mask)\n",
    "    if (result_blue != np.zeros((5,5,3)) ).all():\n",
    "        print(\"blue\")\n",
    "\n",
    "    green_mask = cv.inRange(img_part, np.array([65,120,120]),np.array([95,255,255]))\n",
    "    result_green = cv.bitwise_and(img_part,img_part, mask = green_mask)\n",
    "    if (result_green != np.zeros((5,5,3)) ).all():\n",
    "        print(\"green\")\n",
    "    \n",
    "    white_mask = cv.inRange(img_part, np.array([0,0,0]),np.array([180,90,255]))\n",
    "    result_white = cv.bitwise_and(img_part,img_part, mask = white_mask)\n",
    "    if (result_white != np.zeros((5,5,3)) ).all():\n",
    "        print(\"white\")\n",
    "\n",
    "    orange_mask = cv.inRange(img_part, np.array([9,70,70]),np.array([18,255,255]))\n",
    "    result_orange = cv.bitwise_and(img_part,img_part, mask = orange_mask)\n",
    "    if (result_orange != np.zeros((5,5,3)) ).all():\n",
    "        print(\"orange\")\n",
    "\n",
    "    yellow_mask = cv.inRange(img_part, np.array([20,70,70]),np.array([65,255,255]))\n",
    "    result_yellow = cv.bitwise_and(img_part,img_part, mask = yellow_mask)\n",
    "    if (result_yellow != np.zeros((5,5,3)) ).all():\n",
    "        print(\"yellow\")\n",
    "\n",
    "    red_mask = cv.inRange(img_part, np.array([0,70,120]),np.array([5,255,255]))\n",
    "    result_red = cv.bitwise_and(img_part,img_part, mask = red_mask)\n",
    "    if (result_red != np.zeros((5,5,3)) ).all():\n",
    "        print(\"red\")\n",
    "    \n",
    "    "
   ]
  },
  {
   "cell_type": "code",
   "execution_count": 38,
   "metadata": {},
   "outputs": [
    {
     "name": "stdout",
     "output_type": "stream",
     "text": [
      "green\n",
      "orange\n",
      "green\n",
      "orange\n",
      "white\n"
     ]
    }
   ],
   "source": [
    "#TOP FACE :\n",
    "WHICHCOLOR(img_hsv[150:155,150:155])\n",
    "WHICHCOLOR(img_hsv[230:235,120:125])\n",
    "WHICHCOLOR(img_hsv[300:305,95 :100])\n",
    "WHICHCOLOR(img_hsv[230:235,180:185])\n",
    "WHICHCOLOR(img_hsv[300:305,150:155])\n",
    "WHICHCOLOR(img_hsv[370:375,125:130])\n",
    "WHICHCOLOR(img_hsv[299:304,209:214])\n",
    "WHICHCOLOR(img_hsv[380:385,180:185])\n",
    "WHICHCOLOR(img_hsv[450:455,150:155])\n"
   ]
  },
  {
   "cell_type": "code",
   "execution_count": 26,
   "metadata": {},
   "outputs": [
    {
     "name": "stdout",
     "output_type": "stream",
     "text": [
      "orange\n",
      "yellow\n",
      "red\n",
      "green\n"
     ]
    }
   ],
   "source": [
    "#LEFT FACE:\n",
    "WHICHCOLOR(img_hsv[110:115,200:205])\n",
    "WHICHCOLOR(img_hsv[175:180,230:235])\n",
    "WHICHCOLOR(img_hsv[250:255,255:260])\n",
    "WHICHCOLOR(img_hsv[120:125,295:300])\n",
    "WHICHCOLOR(img_hsv[180:185,320:325])\n",
    "WHICHCOLOR(img_hsv[250:255,365:370])\n",
    "WHICHCOLOR(img_hsv[125:130,380:385])\n",
    "WHICHCOLOR(img_hsv[120:125,370:375])\n",
    "WHICHCOLOR(img_hsv[180:185,420:425])\n",
    "WHICHCOLOR(img_hsv[250:255,445:450])"
   ]
  },
  {
   "cell_type": "markdown",
   "metadata": {},
   "source": [
    "## Mask Tester:"
   ]
  },
  {
   "cell_type": "code",
   "execution_count": 35,
   "metadata": {},
   "outputs": [
    {
     "name": "stdout",
     "output_type": "stream",
     "text": [
      "[[[  0   0 255]\n",
      "  [  0   0 255]\n",
      "  [  0   0 255]\n",
      "  [  0   0 255]\n",
      "  [  0   0 255]]\n",
      "\n",
      " [[  0   0 255]\n",
      "  [  0   0 255]\n",
      "  [  0   0 255]\n",
      "  [  0   0 255]\n",
      "  [  0   0 255]]\n",
      "\n",
      " [[  0   0 255]\n",
      "  [  0   0 255]\n",
      "  [  0   0 255]\n",
      "  [  0   0 255]\n",
      "  [  0   0 255]]\n",
      "\n",
      " [[  0   0 255]\n",
      "  [  0   0 255]\n",
      "  [  0   0 255]\n",
      "  [  0   0 255]\n",
      "  [  0   0 255]]\n",
      "\n",
      " [[  0   0 255]\n",
      "  [  0   0 255]\n",
      "  [  0   0 255]\n",
      "  [  0   0 255]\n",
      "  [  0   0 255]]]\n"
     ]
    },
    {
     "ename": "error",
     "evalue": "OpenCV(4.6.0) D:\\a\\opencv-python\\opencv-python\\opencv\\modules\\highgui\\src\\window_w32.cpp:2581: error: (-27:Null pointer) NULL window: 'img' in function 'cvGetTrackbarPos'\n",
     "output_type": "error",
     "traceback": [
      "\u001b[1;31m---------------------------------------------------------------------------\u001b[0m",
      "\u001b[1;31merror\u001b[0m                                     Traceback (most recent call last)",
      "\u001b[1;32md:\\PROJECTS\\RubixBot\\openCV part - aaryan\\code1.ipynb Cell 11\u001b[0m in \u001b[0;36m<cell line: 30>\u001b[1;34m()\u001b[0m\n\u001b[0;32m     <a href='vscode-notebook-cell:/d%3A/PROJECTS/RubixBot/openCV%20part%20-%20aaryan/code1.ipynb#X13sZmlsZQ%3D%3D?line=33'>34</a>\u001b[0m \u001b[39mif\u001b[39;00m k\u001b[39m==\u001b[39m\u001b[39m27\u001b[39m:\n\u001b[0;32m     <a href='vscode-notebook-cell:/d%3A/PROJECTS/RubixBot/openCV%20part%20-%20aaryan/code1.ipynb#X13sZmlsZQ%3D%3D?line=34'>35</a>\u001b[0m     \u001b[39mbreak\u001b[39;00m;\n\u001b[1;32m---> <a href='vscode-notebook-cell:/d%3A/PROJECTS/RubixBot/openCV%20part%20-%20aaryan/code1.ipynb#X13sZmlsZQ%3D%3D?line=36'>37</a>\u001b[0m h_min_val \u001b[39m=\u001b[39m cv\u001b[39m.\u001b[39;49mgetTrackbarPos(\u001b[39m'\u001b[39;49m\u001b[39mh_min\u001b[39;49m\u001b[39m'\u001b[39;49m,\u001b[39m'\u001b[39;49m\u001b[39mimg\u001b[39;49m\u001b[39m'\u001b[39;49m)\n\u001b[0;32m     <a href='vscode-notebook-cell:/d%3A/PROJECTS/RubixBot/openCV%20part%20-%20aaryan/code1.ipynb#X13sZmlsZQ%3D%3D?line=37'>38</a>\u001b[0m h_max_val \u001b[39m=\u001b[39m cv\u001b[39m.\u001b[39mgetTrackbarPos(\u001b[39m'\u001b[39m\u001b[39mh_max\u001b[39m\u001b[39m'\u001b[39m,\u001b[39m'\u001b[39m\u001b[39mimg\u001b[39m\u001b[39m'\u001b[39m)\n\u001b[0;32m     <a href='vscode-notebook-cell:/d%3A/PROJECTS/RubixBot/openCV%20part%20-%20aaryan/code1.ipynb#X13sZmlsZQ%3D%3D?line=38'>39</a>\u001b[0m s_min_val \u001b[39m=\u001b[39m cv\u001b[39m.\u001b[39mgetTrackbarPos(\u001b[39m'\u001b[39m\u001b[39ms_min\u001b[39m\u001b[39m'\u001b[39m,\u001b[39m'\u001b[39m\u001b[39mimg\u001b[39m\u001b[39m'\u001b[39m)\n",
      "\u001b[1;31merror\u001b[0m: OpenCV(4.6.0) D:\\a\\opencv-python\\opencv-python\\opencv\\modules\\highgui\\src\\window_w32.cpp:2581: error: (-27:Null pointer) NULL window: 'img' in function 'cvGetTrackbarPos'\n"
     ]
    }
   ],
   "source": [
    "print(img_hsv[450:455,150:155])\n",
    "\n",
    "h_min_val,s_min_val,v_min_val,h_max_val,s_max_val,v_max_val = 0,0,0,0,0,0\n",
    "\n",
    "def h_max(x):\n",
    "    h_max_val = x\n",
    "def h_min(x):\n",
    "    h_min_val = x\n",
    "def s_max(x):\n",
    "    s_max_val = x\n",
    "def s_min(x):\n",
    "    s_min_val = x\n",
    "def v_max(x):\n",
    "    v_max_val = x\n",
    "def v_min(x):\n",
    "    v_min_val = x\n",
    "\n",
    "white_mask = cv.inRange(img_hsv, np.array([h_min_val,s_min_val,v_min_val]),np.array([h_max_val,s_max_val,v_max_val]))\n",
    "result_white = cv.bitwise_and(img_hsv,img_hsv, mask = white_mask)\n",
    "cv.namedWindow('img')\n",
    "\n",
    "cv.createTrackbar('h_min','img', 0,180, h_min)\n",
    "cv.createTrackbar('h_max', 'img',0,180, h_max)\n",
    "cv.createTrackbar('s_min', 'img',0,255, s_min)\n",
    "cv.createTrackbar('s_max', 'img',0,255, s_max)\n",
    "cv.createTrackbar('v_min', 'img',0,255, v_min)\n",
    "cv.createTrackbar('v_max', 'img',0,255, v_max)\n",
    "cv.imshow('img',result_white)\n",
    "\n",
    "while(1):\n",
    "    cv.imshow('img',result_white)\n",
    "    k = cv.waitKey(1) & 0xFF\n",
    "\n",
    "    if k==27:\n",
    "        break;\n",
    "\n",
    "    h_min_val = cv.getTrackbarPos('h_min','img')\n",
    "    h_max_val = cv.getTrackbarPos('h_max','img')\n",
    "    s_min_val = cv.getTrackbarPos('s_min','img')\n",
    "    s_max_val = cv.getTrackbarPos('s_max','img')\n",
    "    v_min_val = cv.getTrackbarPos('v_min','img')\n",
    "    v_max_val = cv.getTrackbarPos('v_max','img')\n",
    "    \n",
    "    \n",
    "    white_mask = cv.inRange(img_hsv, np.array([h_min_val,s_min_val,v_min_val]),np.array([h_max_val,s_max_val,v_max_val]))\n",
    "    result_white = cv.bitwise_and(img_hsv,img_hsv, mask = white_mask)\n",
    "\n",
    "cv.waitKey(0)"
   ]
  },
  {
   "cell_type": "code",
   "execution_count": 39,
   "metadata": {},
   "outputs": [
    {
     "name": "stdout",
     "output_type": "stream",
     "text": [
      "[[[ 12 218 251]\n",
      "  [ 12 218 251]\n",
      "  [ 12 218 251]\n",
      "  [ 12 218 251]\n",
      "  [ 12 218 251]]\n",
      "\n",
      " [[ 12 218 251]\n",
      "  [ 12 218 251]\n",
      "  [ 12 218 251]\n",
      "  [ 12 218 251]\n",
      "  [ 12 218 251]]\n",
      "\n",
      " [[ 11 217 255]\n",
      "  [ 11 217 255]\n",
      "  [ 11 217 255]\n",
      "  [ 11 217 255]\n",
      "  [ 11 217 255]]\n",
      "\n",
      " [[ 11 217 255]\n",
      "  [ 11 217 255]\n",
      "  [ 11 217 255]\n",
      "  [ 11 217 255]\n",
      "  [ 11 217 255]]\n",
      "\n",
      " [[ 11 217 255]\n",
      "  [ 11 217 255]\n",
      "  [ 11 217 255]\n",
      "  [ 11 217 255]\n",
      "  [ 11 217 255]]]\n"
     ]
    },
    {
     "data": {
      "text/plain": [
       "-1"
      ]
     },
     "execution_count": 39,
     "metadata": {},
     "output_type": "execute_result"
    }
   ],
   "source": [
    "print(img_hsv[230:235,120:125])\n",
    "cv.imshow('img',img_hsv[230:235,120:125])\n",
    "cv.waitKey(0)"
   ]
  }
 ],
 "metadata": {
  "kernelspec": {
   "display_name": "Python 3.10.5 64-bit",
   "language": "python",
   "name": "python3"
  },
  "language_info": {
   "codemirror_mode": {
    "name": "ipython",
    "version": 3
   },
   "file_extension": ".py",
   "mimetype": "text/x-python",
   "name": "python",
   "nbconvert_exporter": "python",
   "pygments_lexer": "ipython3",
   "version": "3.10.5"
  },
  "orig_nbformat": 4,
  "vscode": {
   "interpreter": {
    "hash": "4e8514493ec488e4d87cdf15e3c17fcd7c9c19e039230554fb63f2b0c0d8bb88"
   }
  }
 },
 "nbformat": 4,
 "nbformat_minor": 2
}
